{
 "cells": [
  {
   "cell_type": "markdown",
   "metadata": {},
   "source": [
    "# Feature Encoding"
   ]
  },
  {
   "cell_type": "code",
   "execution_count": 9,
   "metadata": {},
   "outputs": [
    {
     "name": "stdout",
     "output_type": "stream",
     "text": [
      "    kolor\n",
      "0     Red\n",
      "1   Green\n",
      "2    blue\n",
      "3  orange\n",
      "   kolor_Green  kolor_Red  kolor_blue  kolor_orange\n",
      "0        False       True       False         False\n",
      "1         True      False       False         False\n",
      "2        False      False        True         False\n",
      "3        False      False       False          True\n"
     ]
    }
   ],
   "source": [
    "# 1. One hot encoding.\n",
    "import pandas as pd\n",
    "data = {'kolor': ['Red', 'Green', 'blue', 'orange']}\n",
    "df = pd.DataFrame(data)\n",
    "print(df)\n",
    "enkoded_data = pd.get_dummies(df, columns=['kolor'])\n",
    "print(enkoded_data)"
   ]
  },
  {
   "cell_type": "code",
   "execution_count": 14,
   "metadata": {},
   "outputs": [
    {
     "name": "stdout",
     "output_type": "stream",
     "text": [
      "  animal\n",
      "0    kat\n",
      "1    dog\n",
      "2   bird\n",
      "  animal  Animal_enkoded\n",
      "0    kat               2\n",
      "1    dog               1\n",
      "2   bird               0\n"
     ]
    }
   ],
   "source": [
    "# Label enkoding.\n",
    "from sklearn.preprocessing import LabelEncoder\n",
    "data = {'animal': ['kat', 'dog', 'bird']}\n",
    "df = pd.DataFrame(data)\n",
    "print(df)\n",
    "label_enkoder = LabelEncoder()\n",
    "df['Animal_enkoded'] = label_enkoder.fit_transform(df['animal']) # alphbatikal order\n",
    "print(df)"
   ]
  },
  {
   "cell_type": "code",
   "execution_count": 17,
   "metadata": {},
   "outputs": [
    {
     "name": "stdout",
     "output_type": "stream",
     "text": [
      "     size\n",
      "0  medium\n",
      "1   large\n",
      "2   small\n",
      "     size  Size_enkoded\n",
      "0  medium           0.0\n",
      "1   large           1.0\n",
      "2   small           2.0\n"
     ]
    }
   ],
   "source": [
    "# Ordinal Enkoding\n",
    "from sklearn.preprocessing import OrdinalEncoder\n",
    "data = {'size': ['medium', 'large', 'small']}\n",
    "df = pd.DataFrame(data)\n",
    "print(df)\n",
    "ordinal_enkoder = OrdinalEncoder(categories=[['medium', 'large', 'small']]) # defining katogorigal order\n",
    "df['Size_enkoded'] = ordinal_enkoder.fit_transform(df[['size']])\n",
    "print(df)"
   ]
  }
 ],
 "metadata": {
  "kernelspec": {
   "display_name": "Python 3",
   "language": "python",
   "name": "python3"
  },
  "language_info": {
   "codemirror_mode": {
    "name": "ipython",
    "version": 3
   },
   "file_extension": ".py",
   "mimetype": "text/x-python",
   "name": "python",
   "nbconvert_exporter": "python",
   "pygments_lexer": "ipython3",
   "version": "3.11.4"
  }
 },
 "nbformat": 4,
 "nbformat_minor": 2
}
